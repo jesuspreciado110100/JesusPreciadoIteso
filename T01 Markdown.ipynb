{
  "metadata": {
    "kernelspec": {
      "name": "python",
      "display_name": "Python (Pyodide)",
      "language": "python"
    },
    "language_info": {
      "codemirror_mode": {
        "name": "python",
        "version": 3
      },
      "file_extension": ".py",
      "mimetype": "text/x-python",
      "name": "python",
      "nbconvert_exporter": "python",
      "pygments_lexer": "ipython3",
      "version": "3.8"
    }
  },
  "nbformat_minor": 4,
  "nbformat": 4,
  "cells": [
    {
      "cell_type": "markdown",
      "source": "# Hidraulica 1",
      "metadata": {}
    },
    {
      "cell_type": "markdown",
      "source": "## Introduccion a la hidraulica",
      "metadata": {}
    },
    {
      "cell_type": "markdown",
      "source": "La mecánica de fluidos tiene muchas \nramificaciones, a la rama que estudia la\r\naplicaciones de las leyes y principios de la mecánica\r\na el agua se le conoce como hidromecánica, la cal\r\nal enfocarse directamente a las obras del ingen ero\r\ncivil se le conoce como hidráulanda.\r\n",
      "metadata": {}
    },
    {
      "cell_type": "markdown",
      "source": "## Propiedades de los fluidos",
      "metadata": {}
    },
    {
      "cell_type": "markdown",
      "source": "Se denomina fluido a un tipo de medio continuo formado por alguna sustancia entre cuyas moléculas hay una fuerza de atracción débil. Los fluidos se caracterizan por cambiar de forma sin que existan fuerzas restitutivas tendientes a recuperar la forma \"original\" .Toman la forma del recipiente que los contiene. La principal diferencia entre los líquidos y los gases es que los \nlíquidos tienen un volumen definido, el volumen del gas depende del recipiente que lo contiene. \n\nLas **propiedades intensivas** son aquellas que no dependen de la cantidad de sustancia *presente*, por este motivo no son propiedades aditivas. Ejemplos de propiedades intensivas son la temperatura,la velocidad, la masa específica.\n\nCuando la **propiedad intensiva** se multiplica por la cantidad de sustancia (masa) se tiene una propiedad que *sí depende de la cantidad de sustancia presente* y se llama propiedad extensiva,\ncomo ocurre con la masa, con la cantidad de movimiento y el volumen.\n\n",
      "metadata": {}
    },
    {
      "cell_type": "markdown",
      "source": "![](https://como-funciona.co/wp-content/uploads/2022/09/Mecanica-de-fluidos.jpg)",
      "metadata": {}
    },
    {
      "cell_type": "markdown",
      "source": "El conjunto de disciplinas que abarca la mecánica convencional es muy amplio y es posible agruparlas en tres bloques principales:in.\n",
      "metadata": {}
    },
    {
      "cell_type": "markdown",
      "source": "<ul>\n <li>Mecánica clásica, Sir. Isaac Newton.</li>\n <li>Mecánica cuántica, Neils Bohr. </li>\n <li>Mecánica relativista, Albert Einstein.</li>\n </ul>\n",
      "metadata": {}
    },
    {
      "cell_type": "markdown",
      "source": "1. Fn es positivo cuando tiene dirección hacia afuera del Vc, esto es una tensión.\n2. Fn es negativo cuando tiene dirección hacia dentro del Vc, esto es una compresión. Y es positivo cuando está hacia afuera (tensión). \n3. Ft es conocido como esfuerzo tangencial o cortante.",
      "metadata": {}
    },
    {
      "cell_type": "code",
      "source": "",
      "metadata": {
        "trusted": true
      },
      "outputs": [],
      "execution_count": null
    }
  ]
}