{
  "metadata": {
    "kernelspec": {
      "name": "python",
      "display_name": "Python (Pyodide)",
      "language": "python"
    },
    "language_info": {
      "codemirror_mode": {
        "name": "python",
        "version": 3
      },
      "file_extension": ".py",
      "mimetype": "text/x-python",
      "name": "python",
      "nbconvert_exporter": "python",
      "pygments_lexer": "ipython3",
      "version": "3.8"
    }
  },
  "nbformat_minor": 4,
  "nbformat": 4,
  "cells": [
    {
      "cell_type": "markdown",
      "source": "# AO1 Python",
      "metadata": {}
    },
    {
      "cell_type": "markdown",
      "source": "### Existe una función que recibe un número entero y te dice si es un número primo.",
      "metadata": {}
    },
    {
      "cell_type": "code",
      "source": "import numpy as np\ndef checar_si_es_primo(n) :\n    c = np.floor(np.sqrt(n))\n    i = 2\n    while (i < c) :\n       if (n % i == 0) :\n        print(\"no es primo\")\n    else : \n        print(\"es primo\")\n    \n",
      "metadata": {
        "trusted": true
      },
      "outputs": [],
      "execution_count": 24
    },
    {
      "cell_type": "code",
      "source": "checar_si_es_primo(7)",
      "metadata": {
        "trusted": true
      },
      "outputs": [
        {
          "name": "stdout",
          "text": "es primo\n",
          "output_type": "stream"
        }
      ],
      "execution_count": 25
    },
    {
      "cell_type": "markdown",
      "source": "### Existe una función que recibe un número y te regresa el factorial de ese número.",
      "metadata": {}
    },
    {
      "cell_type": "code",
      "source": "def regresar_factorial(n):\n    number = n\n    if number == 0:\n        return 1\n    return number * regresar_factorial(number - 1)\n    ",
      "metadata": {
        "trusted": true
      },
      "outputs": [],
      "execution_count": 26
    },
    {
      "cell_type": "code",
      "source": "regresar_factorial(100)",
      "metadata": {
        "trusted": true
      },
      "outputs": [
        {
          "execution_count": 23,
          "output_type": "execute_result",
          "data": {
            "text/plain": "93326215443944152681699238856266700490715968264381621468592963895217599993229915608941463976156518286253697920827223758251185210916864000000000000000000000000"
          },
          "metadata": {}
        }
      ],
      "execution_count": 27
    },
    {
      "cell_type": "markdown",
      "source": "### Contiene una celda donde revisa los números del 1 al 1000 e imprime aquellos que son primos.",
      "metadata": {}
    },
    {
      "cell_type": "code",
      "source": "def es_primo(n):\n    if numero < 2:\n        return False\n    for i in range(2, int(numero**0.5) + 1):\n        if numero % i == 0:\n            return False\n    return True\n\nfor num in range(1, 1001):\n    if es_primo(n):\n        print(n)",
      "metadata": {
        "trusted": true
      },
      "outputs": [
        {
          "ename": "<class 'NameError'>",
          "evalue": "name 'n' is not defined",
          "traceback": [
            "\u001b[0;31m---------------------------------------------------------------------------\u001b[0m",
            "\u001b[0;31mNameError\u001b[0m                                 Traceback (most recent call last)",
            "Cell \u001b[0;32mIn[29], line 10\u001b[0m\n\u001b[1;32m      7\u001b[0m     \u001b[38;5;28;01mreturn\u001b[39;00m \u001b[38;5;28;01mTrue\u001b[39;00m\n\u001b[1;32m      9\u001b[0m \u001b[38;5;28;01mfor\u001b[39;00m num \u001b[38;5;129;01min\u001b[39;00m \u001b[38;5;28mrange\u001b[39m(\u001b[38;5;241m1\u001b[39m, \u001b[38;5;241m1001\u001b[39m):\n\u001b[0;32m---> 10\u001b[0m     \u001b[38;5;28;01mif\u001b[39;00m es_primo(\u001b[43mn\u001b[49m):\n\u001b[1;32m     11\u001b[0m         \u001b[38;5;28mprint\u001b[39m(n)\n",
            "\u001b[0;31mNameError\u001b[0m: name 'n' is not defined"
          ],
          "output_type": "error"
        }
      ],
      "execution_count": 41
    },
    {
      "cell_type": "markdown",
      "source": "### Contiene una celda donde itera sobre los números [2, 5, 8, 11] e imprime su factorial.\n",
      "metadata": {}
    },
    {
      "cell_type": "code",
      "source": "def factorial(n):\n     number = n\n    if number == 0:\n        return 1\n    return number * regresar_factorial(number - 1)\n\nnumeros = [2, 5, 8, 11]\n\nfor number in numeros:\n    regresar_factorial = factorial(n)\n    print (regresar_factorial)",
      "metadata": {
        "trusted": true
      },
      "outputs": [],
      "execution_count": null
    },
    {
      "cell_type": "code",
      "source": "",
      "metadata": {
        "trusted": true
      },
      "outputs": [],
      "execution_count": null
    }
  ]
}